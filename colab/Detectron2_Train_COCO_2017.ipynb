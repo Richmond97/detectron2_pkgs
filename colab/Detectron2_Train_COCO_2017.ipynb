{
  "nbformat": 4,
  "nbformat_minor": 0,
  "metadata": {
    "colab": {
      "name": "Detectron2_Train_COCO-2017.ipynb",
      "provenance": [],
      "private_outputs": true,
      "collapsed_sections": [],
      "include_colab_link": true
    },
    "kernelspec": {
      "name": "python3",
      "display_name": "Python 3"
    },
    "accelerator": "GPU"
  },
  "cells": [
    {
      "cell_type": "markdown",
      "metadata": {
        "id": "view-in-github",
        "colab_type": "text"
      },
      "source": [
        "<a href=\"https://colab.research.google.com/github/sawyermade/detectron2_pkgs/blob/master/colab/Detectron2_Train_COCO_2017.ipynb\" target=\"_parent\"><img src=\"https://colab.research.google.com/assets/colab-badge.svg\" alt=\"Open In Colab\"/></a>"
      ]
    },
    {
      "cell_type": "markdown",
      "metadata": {
        "id": "P98AQd_6ja6_",
        "colab_type": "text"
      },
      "source": [
        "# [Detectron2 Training: Mask R-CNN with COCO 2017](https://github.com/sawyermade/detectron2_pkgs)\n",
        "<img src=\"https://dl.fbaipublicfiles.com/detectron2/Detectron2-Logo-Horz.png\" width=\"500\">"
      ]
    },
    {
      "cell_type": "markdown",
      "metadata": {
        "id": "y8pkhcyR0aaz",
        "colab_type": "text"
      },
      "source": [
        "# **Github:** https://github.com/sawyermade/detectron2_pkgs/tree/master/colab"
      ]
    },
    {
      "cell_type": "markdown",
      "metadata": {
        "id": "OvxfpaWT0qEQ",
        "colab_type": "text"
      },
      "source": [
        "# **COCO 2017 Setup:** https://github.com/sawyermade/detectron2_pkgs/tree/master/dataset_download"
      ]
    },
    {
      "cell_type": "markdown",
      "metadata": {
        "id": "6d3r0deVmulA",
        "colab_type": "text"
      },
      "source": [
        "# **Google Drive Setup**: \n",
        "\n",
        "## Google Drive: https://drive.google.com\n",
        "\n",
        "## Youtube Video: https://youtu.be/I-sfiHEL2Sw\n",
        "\n",
        "## 1. Create directory in root of 'My Drive' called 'detectron2_models' (case sensitive).\n",
        "\n",
        "## 2. Add COCO dataset share to your google drive account via this link (login if necessary): https://drive.google.com/drive/folders/1EVsLBRwT2njNWOrmBAhDHvvB8qrd9pXT?usp=sharing\n",
        "\n",
        "## 3. Now COCO directory should be in your 'Shared with me' section of google drive\n",
        "\n",
        "## 4. Create shortcut of COCO share to your drive, right click and select 'Add Shortcut to drive', choose root of 'My Drive'. Now you should see COCO directory under 'My Drive' section.\n",
        "\n",
        "## 5. ***Resume Training*** by setting the resume_training under 'Install Detectron2 and Deps' cell to True and then Run All under Runtime."
      ]
    },
    {
      "cell_type": "markdown",
      "metadata": {
        "id": "YB9TqzAZIlZF",
        "colab_type": "text"
      },
      "source": [
        "# **Keep Colab From Timing Out:**\n",
        "Prevents Colab from disconnecting due to inactivity while training and lets you sleep :)"
      ]
    },
    {
      "cell_type": "markdown",
      "metadata": {
        "id": "gxsRNycaJBDW",
        "colab_type": "text"
      },
      "source": [
        "## Youtube Video: https://youtu.be/TCuklhUHDKQ\n",
        "Press Ctrl+Shift+i in your browser then select console tab.\n",
        "\n",
        "Copy and paste this into console and press return:\n",
        "```\n",
        "function ClickConnect(){\n",
        "console.log(\"Working\"); \n",
        "document.querySelector(\"colab-toolbar-button#connect\").click() \n",
        "}\n",
        "setInterval(ClickConnect,60000)\n",
        "```\n",
        "\"colab-toolbar-button#connect\"\n",
        "\n",
        "\"connect-button-resource-display\""
      ]
    },
    {
      "cell_type": "markdown",
      "metadata": {
        "id": "dbRxrDjMvTkp",
        "colab_type": "text"
      },
      "source": [
        "# **Mount Google Drive**\n",
        "Mounts Google Drive so you can read COCO from it and save models to it. Will also allow you to resume.\n",
        "\n",
        "You will be prompted with an http link to get your google oath credential key. Paste into input box and press return.\n",
        "\n",
        "## Youtube Video: https://youtu.be/Qa6lS2lGPl4"
      ]
    },
    {
      "cell_type": "markdown",
      "metadata": {
        "id": "Qr4c4W5iMuZS",
        "colab_type": "text"
      },
      "source": [
        "## Mount Google Drive:\n",
        "Mounts Google Drive to /content/gdrive"
      ]
    },
    {
      "cell_type": "code",
      "metadata": {
        "id": "BHtbr5MiMlhj",
        "colab_type": "code",
        "colab": {}
      },
      "source": [
        "# Imports google drive module and mounts it\n",
        "from google.colab import drive \n",
        "drive.mount('/content/gdrive')"
      ],
      "execution_count": 0,
      "outputs": []
    },
    {
      "cell_type": "markdown",
      "metadata": {
        "id": "FDdhE9oEj2vA",
        "colab_type": "text"
      },
      "source": [
        "# **Install Detectron2 and Deps**\n",
        "Installs all the deps needed through pip and restarts runtime.\n",
        "\n",
        "Takes about 5 minutes to run.\n"
      ]
    },
    {
      "cell_type": "code",
      "metadata": {
        "id": "ewn6G_7zrZ8i",
        "colab_type": "code",
        "colab": {}
      },
      "source": [
        "# Starts timer\n",
        "from datetime import timedelta\n",
        "import time\n",
        "from tqdm import tqdm\n",
        "time_start = time.time()\n",
        "\n",
        "try: \n",
        "  import detectron2\n",
        "\n",
        "except:\n",
        "  # Clone git repo, you can fork and make your own configs\n",
        "  !git clone --recurse-submodules https://github.com/sawyermade/detectron2_pkgs.git\n",
        "\n",
        "  # Installs detectron2\n",
        "  !pip install -U torch torchvision\n",
        "  !pip install git+https://github.com/facebookresearch/fvcore.git\n",
        "  !rm -rf detectron2_pkgs/detectron2/build\n",
        "  !pip install -U -e detectron2_pkgs/detectron2\n",
        "\n",
        "  # Installs additional packages for other types of training\n",
        "  !pip install -U 'git+https://github.com/cocodataset/cocoapi.git#subdirectory=PythonAPI'\n",
        "  !pip install -U 'git+https://github.com/cocodataset/cocoapi.git#subdirectory=PythonAPI'\n",
        "  !pip install -U 'git+https://github.com/cocodataset/panopticapi.git'\n",
        "  !pip install -U 'git+https://github.com/mcordts/cityscapesScripts.git'\n",
        "  !pip install imageio shapely\n",
        "  # !pip install -U 'git+https://github.com/lvis-dataset/lvis-api.git' #LVIS not working atm\n",
        "\n",
        "  # Prints running time\n",
        "  time_stop = time.time()\n",
        "  time_delta = timedelta(seconds=(time_stop - time_start))\n",
        "  print(f'Running Time: {time_delta}')\n",
        "\n",
        "  # Resets runtime\n",
        "  import os\n",
        "  os.kill(os.getpid(), 9)\n"
      ],
      "execution_count": 0,
      "outputs": []
    },
    {
      "cell_type": "markdown",
      "metadata": {
        "id": "OJaxD3nD39iH",
        "colab_type": "text"
      },
      "source": [
        "# **Resume or Debug?**\n",
        "Set resume_training to True to resume, set to False to start new.\n",
        "\n",
        "Set debug_flag to True to enable some debugging functions, like random image sampling."
      ]
    },
    {
      "cell_type": "code",
      "metadata": {
        "id": "JQ8t2vdR4KY6",
        "colab_type": "code",
        "colab": {}
      },
      "source": [
        "resume_training = True\n",
        "debug_flag = True"
      ],
      "execution_count": 0,
      "outputs": []
    },
    {
      "cell_type": "markdown",
      "metadata": {
        "id": "vuAZWZf7UY4e",
        "colab_type": "text"
      },
      "source": [
        "#**COCO 2017 Import**\n",
        "Loads symlinks for COCO 2017 from Google Drive to local disk."
      ]
    },
    {
      "cell_type": "markdown",
      "metadata": {
        "id": "5ChjdEl3M1AS",
        "colab_type": "text"
      },
      "source": [
        "\n",
        "## Create Local Symlinks:\n",
        "Creates symlinks from Google Drive to local /content/datasets/coco.\n",
        "\n",
        "Prevents the reading large number of files in Gdrive directory caching bug.\n",
        "\n",
        "There are 24 subdirectories of 5000 for train2017 and 9 subdirectories of 5000 for test2017.\n",
        "\n",
        "Takes about 25 minutes to run."
      ]
    },
    {
      "cell_type": "code",
      "metadata": {
        "id": "9TLVpYVbvcl_",
        "colab_type": "code",
        "colab": {}
      },
      "source": [
        "# Create directories\n",
        "!rm -rf datasets\n",
        "!mkdir -p datasets/coco/train2017 datasets/coco/test2017\n",
        "\n",
        "# Imports and starts timer\n",
        "import time, os\n",
        "from tqdm import tqdm\n",
        "from datetime import timedelta\n",
        "time_start = time.time()\n",
        "\n",
        "# Symlink COCO\n",
        "gdrive_path = r'/content/gdrive/My Drive/COCO/2017'\n",
        "local_path = 'datasets/coco/'\n",
        "dnc_dirs = ['train2017', 'test2017']\n",
        "for d in os.listdir(gdrive_path):\n",
        "  if d not in dnc_dirs:\n",
        "    os.system(f'ln -s \\\"{os.path.join(gdrive_path, d)}\\\" {local_path}')\n",
        "\n",
        "# Create symlinks for sub directories for train2017 and test2017\n",
        "dir_sub_list = [\n",
        "  os.path.join(gdrive_path, 'train2017_sub'), \n",
        "  os.path.join(gdrive_path, 'test2017_sub')\n",
        "]\n",
        "for d, d_sub in zip(dnc_dirs, dir_sub_list):\n",
        "  for root, dirs, files in tqdm(os.walk(d_sub)):\n",
        "    if files:\n",
        "      for filename in files:\n",
        "        os.system(f'ln -s \\\"{os.path.join(root, filename)}\\\" {os.path.join(local_path, d)}')\n",
        "\n",
        "# Prints the file count in train2017 and test2017\n",
        "train_count = len(os.listdir(os.path.join(local_path, 'train2017')))\n",
        "test_count = len(os.listdir(os.path.join(local_path, 'test2017')))\n",
        "print(f'Train2017 Count(118287): {train_count}')\n",
        "print(f'Test2017 Count(40670): {test_count}')\n",
        "\n",
        "# Links output\n",
        "!unlink output \n",
        "!ln -s /content/gdrive/My\\ Drive/detectron2_models ./output\n",
        "\n",
        "# Prints running time\n",
        "time_stop = time.time()\n",
        "time_delta = timedelta(seconds=(time_stop - time_start))\n",
        "print(f'Running Time: {time_delta}')"
      ],
      "execution_count": 0,
      "outputs": []
    },
    {
      "cell_type": "markdown",
      "metadata": {
        "id": "lYi3o4sOxITq",
        "colab_type": "text"
      },
      "source": [
        "# **Imports**\n",
        "Import all the modules needed to train."
      ]
    },
    {
      "cell_type": "code",
      "metadata": {
        "id": "KQCH3fxZxlE5",
        "colab_type": "code",
        "colab": {}
      },
      "source": [
        "import os, sys, argparse, logging, torch, random, cv2\n",
        "from google.colab.patches import cv2_imshow\n",
        "\n",
        "from collections import OrderedDict\n",
        "import detectron2.utils.comm as comm\n",
        "from detectron2.checkpoint import DetectionCheckpointer\n",
        "from detectron2.config import get_cfg\n",
        "from detectron2.data import MetadataCatalog, DatasetCatalog\n",
        "from detectron2.engine import DefaultTrainer, default_argument_parser, default_setup, hooks, launch\n",
        "from detectron2.evaluation import (\n",
        "\tCityscapesEvaluator,\n",
        "\tCOCOEvaluator,\n",
        "\tCOCOPanopticEvaluator,\n",
        "\tDatasetEvaluators,\n",
        "\tLVISEvaluator,\n",
        "\tPascalVOCDetectionEvaluator,\n",
        "\tSemSegEvaluator,\n",
        "\tverify_results,\n",
        ")\n",
        "from detectron2.modeling import GeneralizedRCNNWithTTA\n",
        "from detectron2.data.datasets import register_coco_instances\n",
        "from detectron2.utils.visualizer import Visualizer"
      ],
      "execution_count": 0,
      "outputs": []
    },
    {
      "cell_type": "markdown",
      "metadata": {
        "id": "U7afTx_DxzWO",
        "colab_type": "text"
      },
      "source": [
        "# **Arguments**\n",
        "Setup all the arguments needed for training like configs, resume, opts, etc."
      ]
    },
    {
      "cell_type": "markdown",
      "metadata": {
        "id": "N5DNU14a4l94",
        "colab_type": "text"
      },
      "source": [
        "## Argument Parser Definition:\n",
        "Run to create the arg parse function definition."
      ]
    },
    {
      "cell_type": "code",
      "metadata": {
        "id": "XFbJ39_zyDPR",
        "colab_type": "code",
        "colab": {}
      },
      "source": [
        "# Arg parser\n",
        "def argument_parser(arg_list=None):\n",
        "    \"\"\"\n",
        "    Create a parser with some common arguments used by detectron2 users.\n",
        "\n",
        "    Returns:\n",
        "        argparse.ArgumentParser:\n",
        "    \"\"\"\n",
        "    parser = argparse.ArgumentParser(description=\"Detectron2 Training\")\n",
        "    parser.add_argument(\n",
        "    \t\"--config-file\", \n",
        "    \t'-cf',\n",
        "    \tdefault='detectron2_pkgs/configs/COCO-InstanceSegmentation/mask_rcnn_R_50_FPN_1x.yaml', \n",
        "    \tmetavar=\"FILE\", \n",
        "    \thelp=\"path to config file\",\n",
        "    )\n",
        "    parser.add_argument(\n",
        "        \"--resume\",\n",
        "        action=\"store_true\",\n",
        "        help=\"whether to attempt to resume from the checkpoint directory\",\n",
        "    )\n",
        "    parser.add_argument(\"--eval-only\", action=\"store_true\", help=\"perform evaluation only\")\n",
        "    parser.add_argument(\"--num-gpus\", type=int, default=1, help=\"number of gpus *per machine*\")\n",
        "    parser.add_argument(\"--num-machines\", type=int, default=1)\n",
        "    parser.add_argument(\n",
        "        \"--machine-rank\", type=int, default=0, help=\"the rank of this machine (unique per machine)\"\n",
        "    )\n",
        "\n",
        "    # PyTorch still may leave orphan processes in multi-gpu training.\n",
        "    # Therefore we use a deterministic way to obtain port,\n",
        "    # so that users are aware of orphan processes by seeing the port occupied.\n",
        "    port = 2 ** 15 + 2 ** 14 + hash(os.getuid()) % 2 ** 14\n",
        "    parser.add_argument(\"--dist-url\", default=\"tcp://127.0.0.1:{}\".format(port))\n",
        "    parser.add_argument(\n",
        "        \"opts\",\n",
        "        help=\"Modify config options using the command-line\",\n",
        "        default=['SOLVER.IMS_PER_BATCH', '2', 'SOLVER.BASE_LR', '0.0025'],\n",
        "        nargs=argparse.REMAINDER,\n",
        "    )\n",
        "\n",
        "    parser.add_argument(\n",
        "    \t'--dataset-name',\n",
        "    \t'-dn',\n",
        "    \tdest='dataset_name',\n",
        "    \thelp='Name of dataset',\n",
        "    \ttype=str,\n",
        "    \tdefault='coco_2017'\n",
        "    )\n",
        "    parser.add_argument(\n",
        "    \t'--train-gt',\n",
        "    \t'-tgt',\n",
        "    \tdest='train_gt',\n",
        "    \thelp='Path to train json',\n",
        "    \ttype=str,\n",
        "    \tdefault=None\n",
        "    )\n",
        "    parser.add_argument(\n",
        "    \t'--val-gt',\n",
        "    \t'-vgt',\n",
        "    \tdest='val_gt',\n",
        "    \thelp='Path to train json',\n",
        "    \ttype=str,\n",
        "    \tdefault=None\n",
        "    )\n",
        "    parser.add_argument(\n",
        "    \t'--train-dir',\n",
        "    \t'-tdir',\n",
        "    \tdest='train_dir',\n",
        "    \thelp='Path to train directory',\n",
        "    \ttype=str,\n",
        "    \tdefault=None\n",
        "    )\n",
        "    parser.add_argument(\n",
        "    \t'--val-dir',\n",
        "    \t'-vdir',\n",
        "    \tdest='val_dir',\n",
        "    \thelp='Path to val directory',\n",
        "    \ttype=str,\n",
        "    \tdefault=None\n",
        "    )\n",
        "    parser.add_argument(\n",
        "        \"--debug\",\n",
        "        action=\"store_true\",\n",
        "        help=\"Enable DEBUG\",\n",
        "    )\n",
        "    parser.add_argument(\n",
        "    \t'--cuda',\n",
        "    \t'-cu',\n",
        "    \tdest='cuda',\n",
        "    \thelp='CUDA card to use',\n",
        "    \ttype=str,\n",
        "    \tdefault='0'\n",
        "    )\n",
        "\n",
        "    if arg_list:\n",
        "      return parser.parse_args(args=arg_list)\n",
        "    else:\n",
        "      return parser.parse_args()"
      ],
      "execution_count": 0,
      "outputs": []
    },
    {
      "cell_type": "markdown",
      "metadata": {
        "id": "nW1GBxKt5aTM",
        "colab_type": "text"
      },
      "source": [
        "## Create Arguments List: \n",
        "This is where you set your config file.\n",
        "\n",
        "Run New Model Training for a new model or Resume Model Training to resume."
      ]
    },
    {
      "cell_type": "markdown",
      "metadata": {
        "id": "Iyw64soVaLwF",
        "colab_type": "text"
      },
      "source": [
        "### Config File:\n",
        "Path to config file."
      ]
    },
    {
      "cell_type": "code",
      "metadata": {
        "id": "bYLJ3hYFaS0S",
        "colab_type": "code",
        "colab": {}
      },
      "source": [
        "config_path = 'detectron2_pkgs/configs/COCO-InstanceSegmentation/mask_rcnn_R_50_FPN_1x.yaml'"
      ],
      "execution_count": 0,
      "outputs": []
    },
    {
      "cell_type": "markdown",
      "metadata": {
        "id": "AaihI-9y6MeK",
        "colab_type": "text"
      },
      "source": [
        "### New Model Training:\n",
        "For training new model."
      ]
    },
    {
      "cell_type": "code",
      "metadata": {
        "id": "4yr6IqL15jk8",
        "colab_type": "code",
        "colab": {}
      },
      "source": [
        "# Sets config file and opts\n",
        "if not resume_training:\n",
        "  arg_list = [\n",
        "              '--config-file', config_path,\n",
        "              'SOLVER.IMS_PER_BATCH', '2',\n",
        "              'SOLVER.BASE_LR', '0.0025'\n",
        "  ]"
      ],
      "execution_count": 0,
      "outputs": []
    },
    {
      "cell_type": "markdown",
      "metadata": {
        "id": "d8e1RTCiF7DA",
        "colab_type": "text"
      },
      "source": [
        "### Resume Model Training:\n",
        "Resume model training."
      ]
    },
    {
      "cell_type": "code",
      "metadata": {
        "id": "ejV3HvujF9iu",
        "colab_type": "code",
        "colab": {}
      },
      "source": [
        "# Sets config file and opts\n",
        "if resume_training:\n",
        "  arg_list = [\n",
        "              '--config-file', config_path,\n",
        "              '--resume',\n",
        "              'SOLVER.IMS_PER_BATCH', '2',\n",
        "              'SOLVER.BASE_LR', '0.0025'\n",
        "  ]"
      ],
      "execution_count": 0,
      "outputs": []
    },
    {
      "cell_type": "markdown",
      "metadata": {
        "id": "lHKxGZ62GzxB",
        "colab_type": "text"
      },
      "source": [
        "## Parse Arguments:\n",
        "Parses args."
      ]
    },
    {
      "cell_type": "code",
      "metadata": {
        "id": "QDkV31OjG6IY",
        "colab_type": "code",
        "colab": {}
      },
      "source": [
        "# Parse and print args\n",
        "args = argument_parser(arg_list)\n",
        "if debug_flag: args.debug = True\n",
        "print(args)"
      ],
      "execution_count": 0,
      "outputs": []
    },
    {
      "cell_type": "markdown",
      "metadata": {
        "id": "7LxkKDkBHT7V",
        "colab_type": "text"
      },
      "source": [
        "# **Check Dataset**: Optional\n",
        "Checks that dataset and ground truth are working properly. This step is optional. \n",
        "\n",
        "Must set args.debug to True and resume_training False."
      ]
    },
    {
      "cell_type": "markdown",
      "metadata": {
        "id": "UbOLSlDdLIkd",
        "colab_type": "text"
      },
      "source": [
        "## Loads Meta Data and Dicts:"
      ]
    },
    {
      "cell_type": "code",
      "metadata": {
        "id": "DItN6ZnpLHT2",
        "colab_type": "code",
        "colab": {}
      },
      "source": [
        "if not resume_training and args.debug:\n",
        "  # Loads training meta data\n",
        "  coco_train_metadata = MetadataCatalog.get('coco_2017_train')\n",
        "  coco_train_dicts = DatasetCatalog.get('coco_2017_train')\n",
        "\n",
        "  # # Loads validation meta data\n",
        "  coco_val_metadata = MetadataCatalog.get('coco_2017_val')\n",
        "  coco_val_dicts = DatasetCatalog.get('coco_2017_val')\n",
        "\n"
      ],
      "execution_count": 0,
      "outputs": []
    },
    {
      "cell_type": "markdown",
      "metadata": {
        "id": "il4HTlXbHngQ",
        "colab_type": "text"
      },
      "source": [
        "## Meta Check Definition:\n",
        "Defines the meta check."
      ]
    },
    {
      "cell_type": "code",
      "metadata": {
        "id": "XZiiVraIHrlF",
        "colab_type": "code",
        "colab": {}
      },
      "source": [
        "# Random sample check\n",
        "def random_meta_check(dataset_dicts, dataset_metadata, name='Test'):\n",
        "  for d in random.sample(dataset_dicts, 3):\n",
        "    # print(f'filename: {d[\"file_name\"]}')\n",
        "    img = cv2.imread(d[\"file_name\"])\n",
        "    visualizer = Visualizer(img[:, :, ::-1], metadata=dataset_metadata, scale=0.5)\n",
        "    vis = visualizer.draw_dataset_dict(d)\n",
        "    # cv2.imshow(name, vis.get_image()[:, :, ::-1])\n",
        "    cv2_imshow(vis.get_image()[:, :, ::-1])\n",
        "    k = cv2.waitKey(0)\n",
        "    cv2.destroyAllWindows()"
      ],
      "execution_count": 0,
      "outputs": []
    },
    {
      "cell_type": "markdown",
      "metadata": {
        "id": "yl8WuKlCH5xO",
        "colab_type": "text"
      },
      "source": [
        "## Runs random sampling check:\n",
        "Runs random sampling of data with ground truth."
      ]
    },
    {
      "cell_type": "code",
      "metadata": {
        "id": "pWCIDLvSIG0m",
        "colab_type": "code",
        "colab": {}
      },
      "source": [
        "if not resume_training and args.debug:\n",
        "  # # Samples training data\n",
        "  random_meta_check(coco_train_dicts, coco_train_metadata, 'Train')\n",
        "\n",
        "  # # Samples validation data\n",
        "  random_meta_check(coco_val_dicts, coco_val_metadata, 'Valid')\n"
      ],
      "execution_count": 0,
      "outputs": []
    },
    {
      "cell_type": "markdown",
      "metadata": {
        "id": "Esm4fktQGgD7",
        "colab_type": "text"
      },
      "source": [
        "# **Config Setup Function:**\n",
        "Sets up configuration for network."
      ]
    },
    {
      "cell_type": "code",
      "metadata": {
        "id": "4c4RAoZIG4kp",
        "colab_type": "code",
        "colab": {}
      },
      "source": [
        "# Config setup\n",
        "def setup(args):\n",
        "\t\"\"\"\n",
        "\tCreate configs and perform basic setups.\n",
        "\t\"\"\"\n",
        "\tout_dir = args.config_file.split(os.sep)[-1].rsplit('.', 1)[0]\n",
        "\tcfg = get_cfg()\n",
        "\tcfg.OUTPUT_DIR = os.path.join('./output', out_dir)\n",
        "\tcfg.merge_from_file(args.config_file)\n",
        "\tcfg.merge_from_list(args.opts)\n",
        "\tcfg.freeze()\n",
        "\tdefault_setup(cfg, args)\n",
        "\treturn cfg"
      ],
      "execution_count": 0,
      "outputs": []
    },
    {
      "cell_type": "markdown",
      "metadata": {
        "id": "WKdeiOilHZ_Y",
        "colab_type": "text"
      },
      "source": [
        "# **Trainer Function:**\n",
        "Function used to train the network."
      ]
    },
    {
      "cell_type": "code",
      "metadata": {
        "id": "U2R1KnpGHjVR",
        "colab_type": "code",
        "colab": {}
      },
      "source": [
        "class Trainer(DefaultTrainer):\n",
        "\t\"\"\"\n",
        "\tWe use the \"DefaultTrainer\" which contains pre-defined default logic for\n",
        "\tstandard training workflow. They may not work for you, especially if you\n",
        "\tare working on a new research project. In that case you can use the cleaner\n",
        "\t\"SimpleTrainer\", or write your own training loop. You can use\n",
        "\t\"tools/plain_train_net.py\" as an example.\n",
        "\t\"\"\"\n",
        "\n",
        "\t@classmethod\n",
        "\tdef build_evaluator(cls, cfg, dataset_name, output_folder=None):\n",
        "\t\t\"\"\"\n",
        "\t\tCreate evaluator(s) for a given dataset.\n",
        "\t\tThis uses the special metadata \"evaluator_type\" associated with each builtin dataset.\n",
        "\t\tFor your own dataset, you can simply create an evaluator manually in your\n",
        "\t\tscript and do not have to worry about the hacky if-else logic here.\n",
        "\t\t\"\"\"\n",
        "\t\tif output_folder is None:\n",
        "\t\t\toutput_folder = os.path.join(cfg.OUTPUT_DIR, \"inference\")\n",
        "\t\tevaluator_list = []\n",
        "\t\tevaluator_type = MetadataCatalog.get(dataset_name).evaluator_type\n",
        "\t\tif evaluator_type in [\"sem_seg\", \"coco_panoptic_seg\"]:\n",
        "\t\t\tevaluator_list.append(\n",
        "\t\t\t\tSemSegEvaluator(\n",
        "\t\t\t\t\tdataset_name,\n",
        "\t\t\t\t\tdistributed=True,\n",
        "\t\t\t\t\tnum_classes=cfg.MODEL.SEM_SEG_HEAD.NUM_CLASSES,\n",
        "\t\t\t\t\tignore_label=cfg.MODEL.SEM_SEG_HEAD.IGNORE_VALUE,\n",
        "\t\t\t\t\toutput_dir=output_folder,\n",
        "\t\t\t\t)\n",
        "\t\t\t)\n",
        "\t\tif evaluator_type in [\"coco\", \"coco_panoptic_seg\"]:\n",
        "\t\t\tevaluator_list.append(COCOEvaluator(dataset_name, cfg, True, output_folder))\n",
        "\t\tif evaluator_type == \"coco_panoptic_seg\":\n",
        "\t\t\tevaluator_list.append(COCOPanopticEvaluator(dataset_name, output_folder))\n",
        "\t\telif evaluator_type == \"cityscapes\":\n",
        "\t\t\tassert (\n",
        "\t\t\t\ttorch.cuda.device_count() >= comm.get_rank()\n",
        "\t\t\t), \"CityscapesEvaluator currently do not work with multiple machines.\"\n",
        "\t\t\treturn CityscapesEvaluator(dataset_name)\n",
        "\t\telif evaluator_type == \"pascal_voc\":\n",
        "\t\t\treturn PascalVOCDetectionEvaluator(dataset_name)\n",
        "\t\telif evaluator_type == \"lvis\":\n",
        "\t\t\treturn LVISEvaluator(dataset_name, cfg, True, output_folder)\n",
        "\t\tif len(evaluator_list) == 0:\n",
        "\t\t\traise NotImplementedError(\n",
        "\t\t\t\t\"no Evaluator for the dataset {} with the type {}\".format(\n",
        "\t\t\t\t\tdataset_name, evaluator_type\n",
        "\t\t\t\t)\n",
        "\t\t\t)\n",
        "\t\telif len(evaluator_list) == 1:\n",
        "\t\t\treturn evaluator_list[0]\n",
        "\t\treturn DatasetEvaluators(evaluator_list)\n",
        "\n",
        "\t@classmethod\n",
        "\tdef test_with_TTA(cls, cfg, model):\n",
        "\t\tlogger = logging.getLogger(\"detectron2.trainer\")\n",
        "\t\t# In the end of training, run an evaluation with TTA\n",
        "\t\t# Only support some R-CNN models.\n",
        "\t\tlogger.info(\"Running inference with test-time augmentation ...\")\n",
        "\t\tmodel = GeneralizedRCNNWithTTA(cfg, model)\n",
        "\t\tevaluators = [\n",
        "\t\t\tcls.build_evaluator(\n",
        "\t\t\t\tcfg, name, output_folder=os.path.join(cfg.OUTPUT_DIR, \"inference_TTA\")\n",
        "\t\t\t)\n",
        "\t\t\tfor name in cfg.DATASETS.TEST\n",
        "\t\t]\n",
        "\t\tres = cls.test(cfg, model, evaluators)\n",
        "\t\tres = OrderedDict({k + \"_TTA\": v for k, v in res.items()})\n",
        "\t\treturn res"
      ],
      "execution_count": 0,
      "outputs": []
    },
    {
      "cell_type": "markdown",
      "metadata": {
        "id": "Nl0Rm5AoHqqk",
        "colab_type": "text"
      },
      "source": [
        "# **Main Function:**\n",
        "Main function that gets launched for training."
      ]
    },
    {
      "cell_type": "code",
      "metadata": {
        "id": "x5ZXBf08HyMc",
        "colab_type": "code",
        "colab": {}
      },
      "source": [
        "# Main function to get launched\n",
        "def main(args):\n",
        "\t# Gets and sets up config\n",
        "\tcfg = setup(args)\n",
        "\n",
        "\t# If eval only\n",
        "\tif args.eval_only:\n",
        "\t\tmodel = Trainer.build_model(cfg)\n",
        "\t\tDetectionCheckpointer(model, save_dir=cfg.OUTPUT_DIR).resume_or_load(\n",
        "\t\t\tcfg.MODEL.WEIGHTS, resume=args.resume\n",
        "\t\t)\n",
        "\t\tres = Trainer.test(cfg, model)\n",
        "\t\tif comm.is_main_process():\n",
        "\t\t\tverify_results(cfg, res)\n",
        "\t\tif cfg.TEST.AUG.ENABLED:\n",
        "\t\t\tres.update(Trainer.test_with_TTA(cfg, model))\n",
        "\t\treturn res\n",
        "\n",
        "\t\"\"\"\n",
        "\tIf you'd like to do anything fancier than the standard training logic,\n",
        "\tconsider writing your own training loop or subclassing the trainer.\n",
        "\t\"\"\"\n",
        "\ttrainer = Trainer(cfg)\n",
        "\ttrainer.resume_or_load(resume=args.resume)\n",
        "\tif cfg.TEST.AUG.ENABLED:\n",
        "\t\ttrainer.register_hooks(\n",
        "\t\t\t[hooks.EvalHook(0, lambda: trainer.test_with_TTA(cfg, trainer.model))]\n",
        "\t\t)\n",
        "\treturn trainer.train()"
      ],
      "execution_count": 0,
      "outputs": []
    },
    {
      "cell_type": "markdown",
      "metadata": {
        "id": "kXT48ZvjH9BM",
        "colab_type": "text"
      },
      "source": [
        "# **Launch Training:**\n",
        "Starts training by launching main function."
      ]
    },
    {
      "cell_type": "code",
      "metadata": {
        "id": "m6zn93KhIFJb",
        "colab_type": "code",
        "colab": {}
      },
      "source": [
        "# Launches main and starts training\n",
        "launch(\n",
        "  main,\n",
        "  args.num_gpus,\n",
        "  num_machines=args.num_machines,\n",
        "  machine_rank=args.machine_rank,\n",
        "  dist_url=args.dist_url,\n",
        "  args=(args,),\n",
        ")"
      ],
      "execution_count": 0,
      "outputs": []
    }
  ]
}